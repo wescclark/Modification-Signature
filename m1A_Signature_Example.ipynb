{
 "cells": [
  {
   "cell_type": "code",
   "execution_count": null,
   "metadata": {
    "collapsed": true
   },
   "outputs": [],
   "source": [
    "import numpy as np\n",
    "import pandas as pd\n",
    "import matplotlib.pyplot as plt\n",
    "from mpl_toolkits.mplot3d import Axes3D\n",
    "from sklearn.cluster import KMeans"
   ]
  },
  {
   "cell_type": "code",
   "execution_count": null,
   "metadata": {
    "collapsed": false
   },
   "outputs": [],
   "source": [
    "sig_df = pd.read_csv('./Aggregate.txt',sep='\\t', header = 0)\n",
    "sig_df.head()"
   ]
  },
  {
   "cell_type": "code",
   "execution_count": null,
   "metadata": {
    "collapsed": false
   },
   "outputs": [],
   "source": [
    "sig_np = sig_df.as_matrix(columns=['C_Ratio','G_Ratio','T_Ratio'])"
   ]
  },
  {
   "cell_type": "code",
   "execution_count": null,
   "metadata": {
    "collapsed": false
   },
   "outputs": [],
   "source": [
    "sig_np = sig_np/sig_np.sum(axis=1)[:,None]\n",
    "sig_np"
   ]
  },
  {
   "cell_type": "code",
   "execution_count": null,
   "metadata": {
    "collapsed": false
   },
   "outputs": [],
   "source": [
    "fig = plt.figure(figsize=(8,6))\n",
    "ax = Axes3D(fig)\n",
    "ax.scatter(sig_np[:,0],sig_np[:,1],sig_np[:,2])\n",
    "ax.set_xlabel('C ratio')\n",
    "ax.set_ylabel('G ratio')\n",
    "ax.set_zlabel('T ratio')\n",
    "ax.view_init(30,30)\n",
    "plt.show()"
   ]
  },
  {
   "cell_type": "code",
   "execution_count": null,
   "metadata": {
    "collapsed": false
   },
   "outputs": [],
   "source": [
    "estimator = KMeans(6)\n",
    "estimator.fit(sig_np)\n",
    "labels = estimator.labels_\n",
    "labels"
   ]
  },
  {
   "cell_type": "code",
   "execution_count": null,
   "metadata": {
    "collapsed": false
   },
   "outputs": [],
   "source": [
    "%matplotlib nbagg\n",
    "\n",
    "label_color_map = {0:'k',\n",
    "                   1:'r',\n",
    "                   2:'g',\n",
    "                   3:'y',\n",
    "                   4:'b',\n",
    "                   5:'c',\n",
    "                   6:'m',\n",
    "                   7:'orange'\n",
    "                  }\n",
    "\n",
    "label_color = [label_color_map[l] for l in labels]\n",
    "\n",
    "fig = plt.figure(figsize=(8,6))\n",
    "ax = Axes3D(fig)\n",
    "ax.scatter(sig_np[:,0],sig_np[:,1],sig_np[:,2],c=label_color)\n",
    "ax.set_xlabel('C ratio')\n",
    "ax.set_ylabel('G ratio')\n",
    "ax.set_zlabel('T ratio')\n",
    "ax.set_xlim(0,.8)\n",
    "ax.set_xlim(0,.8)\n",
    "ax.set_xlim(0,.8)\n",
    "ax.set_title('KMeans Clustered Signature Data (RT Incorporated Nucleotide)')\n",
    "\n",
    "\n",
    "\n",
    "for angle in range(0, 360):\n",
    "    ax.view_init(30, angle)\n",
    "    plt.draw()\n",
    "    "
   ]
  },
  {
   "cell_type": "code",
   "execution_count": null,
   "metadata": {
    "collapsed": false
   },
   "outputs": [],
   "source": [
    "cluster = pd.DataFrame(data=estimator.labels_,index=sig_df['Signature'])\n",
    "cluster.columns=['KMeans_Cluster_ID']\n",
    "cluster.head(n=10)"
   ]
  },
  {
   "cell_type": "code",
   "execution_count": null,
   "metadata": {
    "collapsed": false
   },
   "outputs": [],
   "source": [
    "cluster[cluster['KMeans_Cluster_ID']==0]"
   ]
  }
 ],
 "metadata": {
  "anaconda-cloud": {},
  "kernelspec": {
   "display_name": "Python [default]",
   "language": "python",
   "name": "python3"
  },
  "language_info": {
   "codemirror_mode": {
    "name": "ipython",
    "version": 3
   },
   "file_extension": ".py",
   "mimetype": "text/x-python",
   "name": "python",
   "nbconvert_exporter": "python",
   "pygments_lexer": "ipython3",
   "version": "3.5.2"
  }
 },
 "nbformat": 4,
 "nbformat_minor": 1
}
